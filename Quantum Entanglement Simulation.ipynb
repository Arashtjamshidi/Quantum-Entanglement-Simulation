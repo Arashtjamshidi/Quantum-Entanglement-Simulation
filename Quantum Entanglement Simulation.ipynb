{
 "cells": [
  {
   "cell_type": "code",
   "execution_count": 11,
   "id": "2000371c-394c-4878-9e6f-c8d708b051ea",
   "metadata": {},
   "outputs": [
    {
     "name": "stdout",
     "output_type": "stream",
     "text": [
      "Bell's inequality as witness suggest that we have 12070 Entangled state\n"
     ]
    }
   ],
   "source": [
    "import numpy as np\n",
    "import matplotlib.pyplot as plt\n",
    "import sympy as smp\n",
    "from scipy.stats import unitary_group\n",
    "#from sympy.physics.matrices import msigma\n",
    "#from sympy.physics.quantum import TensorProduct\n",
    "from numpy import linalg as LA\n",
    "from numpy.linalg import eig\n",
    "from sympy import Matrix\n",
    "from sympy.physics.quantum.dagger import Dagger\n",
    "import scienceplots\n",
    "plt.style.use(['science','notebook','grid'])\n",
    "#----------------\n",
    "set_ro_d = [] \n",
    "set_state = []\n",
    "set_state_dager = []\n",
    "density_matrix = []\n",
    "sig_prdct = []\n",
    "Entangled_state = []\n",
    "Separable_state = []\n",
    "good_ro_purity = []\n",
    "bad_ro = []\n",
    "Expectation_sum = []\n",
    "Expectation_sum_notBell = []\n",
    "Expectation_sum_Bell = []\n",
    "purity = []\n",
    "#----------------\n",
    "d = 4\n",
    "num_state = 10\n",
    "num_denmet = 100000\n",
    "min_rand = 0\n",
    "max_rand = 10\n",
    "I = 1j\n",
    "#-----------------\n",
    "sigma_x = np.array([[0,1],\n",
    "                    [1,0]])\n",
    "sigma_y = np.array([[0,-I],\n",
    "                    [I,0]])\n",
    "sigma_z = np.array([[1,0],\n",
    "                    [0,-1]])\n",
    "\n",
    "sigma = [sigma_x ,sigma_y ,sigma_z]\n",
    "#-----------------\n",
    "for i in range(0,3):\n",
    "    for j in range(0,3):\n",
    "        tt = np.kron(sigma[i],sigma[j])\n",
    "        sig_prdct.append(tt)        \n",
    "        \n",
    "        \n",
    "for i in range(num_denmet):\n",
    "    def generate_diagonal_elements(d):\n",
    "    # Generate n random numbers following Dirichlet distribution\n",
    "        random_numbers = np.random.dirichlet(np.ones(d))\n",
    "        return random_numbers\n",
    "\n",
    "    diagonals = generate_diagonal_elements(d)\n",
    "\n",
    "    set_ro_d.append(diagonals*np.identity(d))\n",
    "\n",
    "    #puty = np.trace(set_ro_d[i]@set_ro_d[i])\n",
    "    #purity.append(puty)    \n",
    "    \n",
    "for i in range(num_state):\n",
    "    def random_unitary(d):\n",
    "        # Generate a random complex matrix\n",
    "        X = np.random.randn(d, d) + I * np.random.randn(d, d)\n",
    "    \n",
    "        # QR decomposition  \n",
    "        Q, R = np.linalg.qr(X)\n",
    "    \n",
    "        # Create a diagonal matrix with phase factors\n",
    "        D = np.diag(np.diag(R) / np.abs(np.diag(R)))\n",
    "    \n",
    "        # Construct the unitary matrix\n",
    "        U = np.dot(Q, D)\n",
    "    \n",
    "        return U\n",
    " \n",
    "    set_state.append(random_unitary(d))\n",
    "    #set_state_dager.append(Dagger(set_state))\n",
    "\n",
    "for q in range(num_denmet):\n",
    "    for j in range(num_state):\n",
    "        \n",
    "        TT =[]\n",
    "        ro = set_state[j]@set_ro_d[q]@Dagger(set_state[j])\n",
    "        density_matrix.append(ro)\n",
    "        puty = np.trace(density_matrix[q]@density_matrix[q].conj().T)\n",
    "        purity.append(abs(puty))\n",
    "        for i in range(len(sig_prdct)):\n",
    "            t = np.trace(density_matrix[q]@sig_prdct[i])\n",
    "            TT.append(t)\n",
    "        T = np.array([[TT[0],TT[1],TT[2]],\n",
    "          [TT[3],TT[4],TT[5]],\n",
    "          [TT[6],TT[7],TT[8]]])\n",
    "\n",
    "        eigval , eigvec = np.linalg.eig(Dagger(T)@T) \n",
    "        eeg = abs(eigval)\n",
    "        g = np.trace(np.diag(eeg))-min(eeg)\n",
    "        #ss = np.sort(abs(eigval))\n",
    "        #g = ss[1] + ss[2]\n",
    "        \n",
    "        max_Exp = 2 * np.sqrt(g)\n",
    "        Expectation_sum.append(max_Exp)\n",
    "        if max_Exp > 2:\n",
    "            Entangled_state.append(set_state[j])\n",
    "            purity_ents = np.trace(abs(density_matrix[q]@density_matrix[q].conj().T))\n",
    "            good_ro_purity.append(purity_ents)\n",
    "            Expectation_sum_notBell.append(g)\n",
    "            \n",
    "        else:\n",
    "            Separable_state.append(set_state[j])\n",
    "            Expectation_sum_Bell.append(g)\n",
    "            \n",
    "print(\"Bell's inequality as witness suggest that we have\" , len(Entangled_state) , \"Entangled state\")            "
   ]
  },
  {
   "cell_type": "code",
   "execution_count": 12,
   "id": "bc15776d",
   "metadata": {},
   "outputs": [],
   "source": [
    "pty = []\n",
    "for i in range(num_denmet*num_state):\n",
    "    \n",
    "    purity_u = np.trace(abs(density_matrix[i]@density_matrix[i].conj().T))\n",
    "    pty.append(purity_u)"
   ]
  },
  {
   "cell_type": "code",
   "execution_count": 25,
   "id": "35eb991d",
   "metadata": {},
   "outputs": [
    {
     "data": {
      "text/plain": [
       "1000000"
      ]
     },
     "execution_count": 25,
     "metadata": {},
     "output_type": "execute_result"
    }
   ],
   "source": [
    "len(pty)\n"
   ]
  },
  {
   "cell_type": "code",
   "execution_count": 13,
   "id": "e5e0c167",
   "metadata": {},
   "outputs": [],
   "source": [
    "Possib_stat1 = []\n",
    "for i in range(len(purity)):\n",
    "    if purity[i]>0.333333333:\n",
    "        Possib_stat1.append(purity[i])"
   ]
  },
  {
   "cell_type": "code",
   "execution_count": 45,
   "id": "beff33c9",
   "metadata": {},
   "outputs": [],
   "source": [
    "Possib_stat = []\n",
    "for i in range(len(pty)):\n",
    "    if pty[i]>0.333333333:\n",
    "        Possib_stat.append(pty[i])"
   ]
  },
  {
   "cell_type": "code",
   "execution_count": 4,
   "metadata": {},
   "outputs": [
    {
     "data": {
      "text/plain": [
       "689300"
      ]
     },
     "execution_count": 4,
     "metadata": {},
     "output_type": "execute_result"
    }
   ],
   "source": [
    "len(Possib_stat1)"
   ]
  },
  {
   "cell_type": "code",
   "execution_count": 14,
   "id": "38717c48",
   "metadata": {},
   "outputs": [
    {
     "name": "stdout",
     "output_type": "stream",
     "text": [
      "1.7242857142857142 % of the generated random states are Entangled state as far as Bell's inequality can tell\n"
     ]
    }
   ],
   "source": [
    "percent = (len(Entangled_state)*100)/(len(Possib_stat1))\n",
    "print(percent,\"%\" \" of the generated random states are Entangled state as far as Bell's inequality can tell\")"
   ]
  },
  {
   "cell_type": "code",
   "execution_count": 49,
   "id": "339706cb",
   "metadata": {},
   "outputs": [
    {
     "name": "stdout",
     "output_type": "stream",
     "text": [
      "1.3699610627576728 % of the generated random states are Entangled state as far as Bell's inequality can tell\n"
     ]
    }
   ],
   "source": [
    "percent = (len(Entangled_state)*100)/(len(Possib_stat))\n",
    "print(percent,\"%\" \" of the generated random states are Entangled state as far as Bell's inequality can tell\")"
   ]
  },
  {
   "cell_type": "code",
   "execution_count": 15,
   "id": "81a04e04",
   "metadata": {},
   "outputs": [],
   "source": [
    "import matplotlib as mpl\n",
    "import matplotlib.pyplot as plt\n",
    "import scienceplots\n",
    "plt.style.use(['science'])"
   ]
  },
  {
   "cell_type": "code",
   "execution_count": 16,
   "id": "e87bf4a7",
   "metadata": {},
   "outputs": [],
   "source": [
    "mpl.rcParams['text.latex.preamble'] = r'\\boldmath'\n",
    "\n",
    "mpl.rcParams['xtick.major.size'] = 6\n",
    "mpl.rcParams['xtick.major.width'] = 2\n",
    "mpl.rcParams['xtick.minor.size'] = 3\n",
    "mpl.rcParams['xtick.minor.width'] = 1\n",
    "mpl.rcParams['xtick.labelsize'] = 13\n",
    "mpl.rcParams['xtick.direction'] = 'inout'\n",
    "\n",
    "mpl.rcParams['ytick.major.size'] = 6\n",
    "mpl.rcParams['ytick.major.width'] = 2\n",
    "mpl.rcParams['ytick.minor.size'] = 3\n",
    "mpl.rcParams['ytick.minor.width'] = 1\n",
    "mpl.rcParams['ytick.labelsize'] = 13\n",
    "mpl.rcParams['ytick.direction'] = 'inout'\n",
    "\n",
    "mpl.rcParams['axes.linewidth'] = 1.5\n",
    "mpl.rcParams['axes.labelsize'] = 15\n",
    "mpl.rcParams['axes.labelweight'] = 'bold'\n",
    "\n",
    "mpl.rcParams['figure.titlesize'] = 14\n",
    "\n"
   ]
  },
  {
   "cell_type": "code",
   "execution_count": 18,
   "id": "d9c99024",
   "metadata": {},
   "outputs": [
    {
     "data": {
      "image/png": "[encoded data removed]",
      "text/plain": [
       "<Figure size 350x262.5 with 1 Axes>"
      ]
     },
     "metadata": {},
     "output_type": "display_data"
    }
   ],
   "source": [
    "fig, ax = plt.subplots()\n",
    "\n",
    "ax.plot(purity ,Expectation_sum,'o', color='red' , ms=1)\n",
    "ax.set_ylabel(r'$Expectation$ $value$')\n",
    "ax.set_xlabel(r'$Purity$')\n",
    "#ax.set_ylim(0.01, 0.09)\n",
    "#ax.set_xlim(-0.05e6, 3e6)\n",
    "ax.axvline(0.25, color = 'yellow',label='Purity limit for two qubit system = 0.25')\n",
    "ax.axhline(2, color = 'green',label='Bells inequality violation')\n",
    "plt.legend(loc='lower right' , fontsize=7)\n",
    "\n",
    "\n",
    "#fig.suptitle(r'A4')\n",
    "plt.savefig('Bell_ineq.png', dpi=400)\n",
    "plt.show()"
   ]
  },
  {
   "cell_type": "code",
   "execution_count": 19,
   "id": "cc9ddb7a",
   "metadata": {},
   "outputs": [],
   "source": [
    "#  calculating partial trace \n",
    "density_A = []\n",
    "density_B = []\n",
    "for i in range(len(density_matrix)):\n",
    "    BB = np.split(density_matrix[i], 2, axis=1)\n",
    "    BB0 = np.split(BB[0] , 2, axis=0)\n",
    "    BB1 = np.split(BB[1] , 2, axis=0)\n",
    "    B00 = BB0[0]\n",
    "    B01 = BB1[0]\n",
    "    B10 = BB0[1]\n",
    "    B11 = BB1[1]\n",
    "    P_Tr_B = np.array([[np.trace(B00),np.trace(B01)],\n",
    "                   [np.trace(B10),np.trace(B11)]])\n",
    "    density_A.append(P_Tr_B)\n",
    "    P_Tr_A = np.array([[B00[0][0]+B11[0][0],B00[0][1]+B11[0][1]],\n",
    "                   [B00[1][0]+B11[1][0],B00[1][1]+B11[1][1]]])\n",
    "    density_B.append(P_Tr_A)\n",
    "\n",
    "\n"
   ]
  },
  {
   "cell_type": "code",
   "execution_count": 20,
   "id": "0942b4ea",
   "metadata": {},
   "outputs": [],
   "source": [
    "#calculating of Von Neumann entropy\n",
    "import math\n",
    "Entropy_A = []\n",
    "Entropy_AB =[]\n",
    "for i in range(len(density_A)):\n",
    "    eigval , eigvec = np.linalg.eig(density_A[i])\n",
    "    eg = abs(eigval)\n",
    "    s = -(eg[0]*(math.log(eg[0])) + eg[1]*(math.log(eg[1])))\n",
    "    Entropy_A.append(s)\n",
    "\n",
    "for i in range(len(density_matrix)):\n",
    "    eigval , eigvec = np.linalg.eig(density_matrix[i])\n",
    "    eg = abs(eigval)\n",
    "    s = -( eg[0]*(math.log(eg[0])) + eg[1]*(math.log(eg[1])) + eg[2]*(math.log(eg[2])) + eg[3]*(math.log(eg[3])))\n",
    "    Entropy_AB.append(s)"
   ]
  },
  {
   "cell_type": "code",
   "execution_count": 21,
   "id": "d405c5b7",
   "metadata": {},
   "outputs": [
    {
     "name": "stdout",
     "output_type": "stream",
     "text": [
      "Entropy as witness suggest that we have 8456 Entangled state\n"
     ]
    }
   ],
   "source": [
    "# calculating entropy witness\n",
    "separables_S = []\n",
    "entangleds_S = []\n",
    "for i in range(len(Entropy_AB)):\n",
    "    if Entropy_AB[i]>=Entropy_A[i]:\n",
    "        separables_S.append(density_matrix[i])\n",
    "    else:\n",
    "        entangleds_S.append(density_matrix[i])\n",
    "        \n",
    "print(\"Entropy as witness suggest that we have\" , len(entangleds_S) , \"Entangled state\")  "
   ]
  },
  {
   "cell_type": "code",
   "execution_count": 22,
   "id": "7e3c4d05",
   "metadata": {},
   "outputs": [
    {
     "name": "stdout",
     "output_type": "stream",
     "text": [
      "0.8456 % of the generated random states are Entangled state as far as Entropy as witness can tell\n"
     ]
    }
   ],
   "source": [
    "percent = (len(entangleds_S)*100)/(num_denmet*num_state)\n",
    "print(percent,\"%\" \" of the generated random states are Entangled state as far as Entropy as witness can tell\")"
   ]
  },
  {
   "cell_type": "code",
   "execution_count": 23,
   "id": "a2c96765",
   "metadata": {},
   "outputs": [],
   "source": [
    "#calculating of linear entropy\n",
    "L_entropy = []\n",
    "for i in range(len(density_matrix)):\n",
    "    linear = (4/3)*(1-pty[i])\n",
    "    L_entropy.append(linear)"
   ]
  },
  {
   "cell_type": "code",
   "execution_count": 24,
   "id": "8e4bd7fd",
   "metadata": {},
   "outputs": [],
   "source": [
    "mpl.rcParams['text.latex.preamble'] = r'\\boldmath'\n",
    "\n",
    "mpl.rcParams['xtick.major.size'] = 6\n",
    "mpl.rcParams['xtick.major.width'] = 2\n",
    "mpl.rcParams['xtick.minor.size'] = 3\n",
    "mpl.rcParams['xtick.minor.width'] = 1\n",
    "mpl.rcParams['xtick.labelsize'] = 13\n",
    "mpl.rcParams['xtick.direction'] = 'inout'\n",
    "\n",
    "mpl.rcParams['ytick.major.size'] = 6\n",
    "mpl.rcParams['ytick.major.width'] = 2\n",
    "mpl.rcParams['ytick.minor.size'] = 3\n",
    "mpl.rcParams['ytick.minor.width'] = 1\n",
    "mpl.rcParams['ytick.labelsize'] = 13\n",
    "mpl.rcParams['ytick.direction'] = 'inout'\n",
    "\n",
    "mpl.rcParams['axes.linewidth'] = 1.2\n",
    "mpl.rcParams['axes.labelsize'] = 13\n",
    "mpl.rcParams['axes.labelweight'] = 'bold'\n",
    "\n",
    "mpl.rcParams['figure.titlesize'] = 14"
   ]
  },
  {
   "cell_type": "code",
   "execution_count": 25,
   "id": "c267a6f3",
   "metadata": {},
   "outputs": [
    {
     "data": {
      "image/png": "[encoded data removed]",
      "text/plain": [
       "<Figure size 350x262.5 with 1 Axes>"
      ]
     },
     "metadata": {},
     "output_type": "display_data"
    }
   ],
   "source": [
    "fig, ax = plt.subplots()\n",
    "\n",
    "ax.plot(L_entropy ,Entropy_AB,'o', color='red' , ms=1)\n",
    "ax.set_ylabel(r'$Von$ $Neumann$ $entropy$')\n",
    "ax.set_xlabel(r'$Linear$ $entropy$')\n",
    "#ax.set_ylim(0.01, 0.09)\n",
    "#ax.set_xlim(-0.05e6, 3e6)\n",
    "#ax.axvline(0.25, color = 'yellow',label='Purity limit for two qubit system = 0.25')\n",
    "#ax.axhline(2, color = 'green',label='Bells inequality violation')\n",
    "#plt.legend(loc='lower right' , fontsize=7)\n",
    "\n",
    "\n",
    "#fig.suptitle(r'A4')\n",
    "plt.savefig('LE_VNE.png', dpi=300)\n",
    "plt.show()"
   ]
  },
  {
   "cell_type": "code",
   "execution_count": 8,
   "id": "691440fe",
   "metadata": {},
   "outputs": [],
   "source": [
    "#calculating the purity of Alice density matrix\n",
    "purity_Alice = []\n",
    "for i in range(len(density_A)): \n",
    "               purity_A = np.trace(abs(density_A[i]@density_A[i].conj().T))\n",
    "               purity_Alice.append(purity_A)"
   ]
  },
  {
   "cell_type": "code",
   "execution_count": 9,
   "id": "5bce64e0",
   "metadata": {},
   "outputs": [],
   "source": [
    "#calculating the purity of Bob density matrix\n",
    "purity_Bob = []\n",
    "for i in range(len(density_B)): \n",
    "               purity_B = np.trace(abs(density_B[i]@density_B[i].conj().T))\n",
    "               purity_Bob.append(purity_B)"
   ]
  },
  {
   "cell_type": "code",
   "execution_count": null,
   "id": "a315f29d",
   "metadata": {},
   "outputs": [],
   "source": [
    "BB = np.split(density_matrix[0], 2, axis=1)\n",
    "BB0 = np.split(BB[0] , 2, axis=0)\n",
    "BB1 = np.split(BB[1] , 2, axis=0)\n",
    "B00 = BB0[0]\n",
    "B01 = BB1[0]\n",
    "B10 = BB0[1]\n",
    "B11 = BB1[1]\n",
    "h1A = np.concatenate((B00,B10), axis=1)\n",
    "h2A = np.concatenate((B01,B11), axis=1)\n",
    "den_TA = np.concatenate((h1A,h2A), axis=0)\n",
    "h1B = np.concatenate((B00.T,B01.T), axis=1)\n",
    "h2B = np.concatenate((B10.T,B11.T), axis=1)\n",
    "den_TB = np.concatenate((h1B,h2B), axis=0)"
   ]
  },
  {
   "cell_type": "code",
   "execution_count": 26,
   "id": "2a03e4fd",
   "metadata": {},
   "outputs": [],
   "source": [
    "density_matrix_T_A = []\n",
    "density_matrix_T_B = []\n",
    "for i in range(len(density_matrix)):\n",
    "    BB = np.split(density_matrix[i], 2, axis=1)\n",
    "    BB0 = np.split(BB[0] , 2, axis=0)\n",
    "    BB1 = np.split(BB[1] , 2, axis=0)\n",
    "    B00 = BB0[0]\n",
    "    B01 = BB1[0]\n",
    "    B10 = BB0[1]\n",
    "    B11 = BB1[1]\n",
    "    h1A = np.concatenate((B00,B10), axis=1)\n",
    "    h2A = np.concatenate((B01,B11), axis=1)\n",
    "    partial_A = np.concatenate((h1A,h2A), axis=0)\n",
    "    density_matrix_T_A.append(partial_A)\n",
    "    h1B = np.concatenate((B00.T,B01.T), axis=1)\n",
    "    h2B = np.concatenate((B10.T,B11.T), axis=1)\n",
    "    partial_B = np.concatenate((h1B,h2B), axis=0)\n",
    "    density_matrix_T_B.append(partial_B)"
   ]
  },
  {
   "cell_type": "code",
   "execution_count": 27,
   "id": "bbc98b2a",
   "metadata": {},
   "outputs": [],
   "source": [
    "#calculating the Negativity\n",
    "Negativity = []\n",
    "for i in range(len(density_matrix_T_B)):\n",
    "    eigval , eigvec = np.linalg.eig(density_matrix_T_B[i])\n",
    "    negs = [] \n",
    "    for j in range(len(eigval)):   \n",
    "        N = eigval[j].real\n",
    "        if N<0:\n",
    "            negs.append(N)\n",
    "    N_sum = sum(negs)\n",
    "    N_ro = 2*max(0,abs(N_sum))\n",
    "    Negativity.append(N_ro)"
   ]
  },
  {
   "cell_type": "code",
   "execution_count": 28,
   "id": "ae1f2bc7",
   "metadata": {},
   "outputs": [],
   "source": [
    "non = np.count_nonzero(Negativity)\n"
   ]
  },
  {
   "cell_type": "code",
   "execution_count": 29,
   "id": "65195513",
   "metadata": {},
   "outputs": [
    {
     "name": "stdout",
     "output_type": "stream",
     "text": [
      "35.9607 % of the generated random states are Entangled state as far as Negativity as witness can tell\n"
     ]
    }
   ],
   "source": [
    "percent = (non*100)/(num_denmet*num_state)\n",
    "print(percent,\"%\" \" of the generated random states are Entangled state as far as Negativity as witness can tell\")"
   ]
  },
  {
   "cell_type": "code",
   "execution_count": 30,
   "id": "737664ef",
   "metadata": {},
   "outputs": [
    {
     "name": "stderr",
     "output_type": "stream",
     "text": [
      "No artists with labels found to put in legend.  Note that artists whose label start with an underscore are ignored when legend() is called with no argument.\n"
     ]
    },
    {
     "data": {
      "image/png": "[encoded data removed]",
      "text/plain": [
       "<Figure size 350x262.5 with 1 Axes>"
      ]
     },
     "metadata": {},
     "output_type": "display_data"
    }
   ],
   "source": [
    "plt.plot(pty , Negativity , 'o' , color='red' , ms=2)\n",
    "#plt.axvline(0.25, color = 'blue',label='Purity limit for two qubit system = 0.25')\n",
    "#plt.axhline(2, color = 'black',label='Bells inequality violation')\n",
    "\n",
    "plt.ylabel('Negativity')\n",
    "plt.xlabel('Purity')\n",
    "plt.legend(loc='upper right' , fontsize=10)\n",
    "plt.savefig('Neg_Purity.png', dpi=300)\n",
    "plt.show()"
   ]
  },
  {
   "cell_type": "code",
   "execution_count": 31,
   "id": "e645bf3d",
   "metadata": {},
   "outputs": [
    {
     "data": {
      "image/png": "[encoded data removed]",
      "text/plain": [
       "<Figure size 350x262.5 with 1 Axes>"
      ]
     },
     "metadata": {},
     "output_type": "display_data"
    }
   ],
   "source": [
    "fig, ax = plt.subplots(1, 1)\n",
    "\n",
    "ax.plot(L_entropy ,Negativity,'o', color='red' , ms=1)\n",
    "ax.set_ylabel(r'$Negativity$')\n",
    "ax.set_xlabel(r'$Linear$ $entropy$')\n",
    "#ax.set_ylim(0.01, 0.09)\n",
    "#ax.set_xlim(-0.05e6, 3e6)\n",
    "#ax.axvline(0.25, color = 'yellow',label='Purity limit for two qubit system = 0.25')\n",
    "#ax.axhline(2, color = 'green',label='Bells inequality violation')\n",
    "#plt.legend(loc='lower right' , fontsize=7)\n",
    "\n",
    "\n",
    "#fig.suptitle(r'A4')\n",
    "plt.savefig('Neg_LE.png', dpi=300)\n",
    "plt.show()"
   ]
  },
  {
   "cell_type": "code",
   "execution_count": null,
   "id": "7c4f0752",
   "metadata": {},
   "outputs": [],
   "source": [
    "#concurrence"
   ]
  },
  {
   "cell_type": "code",
   "execution_count": 33,
   "id": "80fb1985",
   "metadata": {},
   "outputs": [],
   "source": [
    "concurrence = []\n",
    "for i in range(len(density_matrix)):\n",
    "    ro_tilda = np.kron(sigma_y,sigma_y)@np.conj(density_matrix[i])@np.kron(sigma_y,sigma_y)\n",
    "    R = density_matrix[i]@ro_tilda\n",
    "\n",
    "    eigval , eigvec = np.linalg.eig(R)\n",
    "    sort_eig = np.sqrt(np.sort(eigval))\n",
    "    landa = sort_eig[3]-sort_eig[2]-sort_eig[1]-sort_eig[0]\n",
    "    c = max(0,landa)\n",
    "    concurrence.append(abs(c))"
   ]
  },
  {
   "cell_type": "code",
   "execution_count": 34,
   "id": "496583d0",
   "metadata": {},
   "outputs": [
    {
     "name": "stderr",
     "output_type": "stream",
     "text": [
      "No artists with labels found to put in legend.  Note that artists whose label start with an underscore are ignored when legend() is called with no argument.\n"
     ]
    },
    {
     "data": {
      "image/png": "[encoded data removed]",
      "text/plain": [
       "<Figure size 350x262.5 with 1 Axes>"
      ]
     },
     "metadata": {},
     "output_type": "display_data"
    }
   ],
   "source": [
    "plt.plot(concurrence , Negativity , 'o' , color='red' , ms=2)\n",
    "\n",
    "\n",
    "plt.ylabel('Negativity')\n",
    "plt.xlabel('concurrence')\n",
    "plt.legend(loc='upper right' , fontsize=10)\n",
    "plt.savefig('Neg_Con.png', dpi=300)\n",
    "plt.show()"
   ]
  },
  {
   "cell_type": "code",
   "execution_count": 13,
   "id": "a4d8becf",
   "metadata": {},
   "outputs": [
    {
     "data": {
      "image/png": "[encoded data removed]",
      "text/plain": [
       "<Figure size 350x262.5 with 1 Axes>"
      ]
     },
     "metadata": {},
     "output_type": "display_data"
    }
   ],
   "source": [
    "plt.hist(purity , bins=70 , color='red' ,density=True)\n",
    "plt.xlabel(r'$Purity$')\n",
    "plt.show()"
   ]
  }
 ],
 "metadata": {
  "kernelspec": {
   "display_name": "base",
   "language": "python",
   "name": "python3"
  },
  "language_info": {
   "codemirror_mode": {
    "name": "ipython",
    "version": 3
   },
   "file_extension": ".py",
   "mimetype": "text/x-python",
   "name": "python",
   "nbconvert_exporter": "python",
   "pygments_lexer": "ipython3",
   "version": "3.11.7"
  }
 },
 "nbformat": 4,
 "nbformat_minor": 5
}
